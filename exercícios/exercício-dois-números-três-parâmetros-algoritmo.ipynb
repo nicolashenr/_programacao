{
  "nbformat": 4,
  "nbformat_minor": 0,
  "metadata": {
    "colab": {
      "provenance": [],
      "authorship_tag": "ABX9TyNUr4WUuVSu47Dm2a6WSzhv",
      "include_colab_link": true
    },
    "kernelspec": {
      "name": "python3",
      "display_name": "Python 3"
    },
    "language_info": {
      "name": "python"
    }
  },
  "cells": [
    {
      "cell_type": "markdown",
      "metadata": {
        "id": "view-in-github",
        "colab_type": "text"
      },
      "source": [
        "<a href=\"https://colab.research.google.com/github/nicolashenr/codes-curso-frontend/blob/main/exerc%C3%ADcio-dois-n%C3%BAmeros-tr%C3%AAs-par%C3%A2metros-algoritmo.ipynb\" target=\"_parent\"><img src=\"https://colab.research.google.com/assets/colab-badge.svg\" alt=\"Open In Colab\"/></a>"
      ]
    },
    {
      "cell_type": "code",
      "source": [
        "num1=int(input(\"Digite o primeiro número: \"))\n",
        "num2=int(input(\"Digite um segundo número: \"))\n",
        "opcao=int(input(\"1- Soma/2- subtração/3- multiplicação/4-divisão: \" ))\n",
        "\n",
        "while opcao < 5:\n",
        "  if opcao == 1:\n",
        "    opcao = num1+num2\n",
        "    print(\"O resultado da soma é: \", opcao)\n",
        "  elif opcao ==2:\n",
        "    opcao = num1-num2\n",
        "    print(\"O resultado da subtração é: \", opcao)\n",
        "  elif opcao ==3:\n",
        "    opcao = num1*num2\n",
        "    print(\"O resultado da multiplicação é: \", opcao)\n",
        "  elif opcao == 4:\n",
        "    opcao = num1/num2\n",
        "    print(\"O resultado da divisão é: \", opcao)\n",
        "\n"
      ],
      "metadata": {
        "id": "mz7lQz-3Os_A"
      },
      "execution_count": null,
      "outputs": []
    }
  ]
}